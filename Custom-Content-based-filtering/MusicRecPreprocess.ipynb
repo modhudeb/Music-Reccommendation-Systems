{
  "cells": [
    {
      "cell_type": "code",
      "execution_count": null,
      "metadata": {
        "id": "5u5zL0koZbiE"
      },
      "outputs": [],
      "source": [
        "import numpy as np\n",
        "import pandas as pd\n",
        "import matplotlib.pyplot as plt\n",
        "import seaborn as sns\n",
        "import os"
      ]
    },
    {
      "cell_type": "code",
      "execution_count": null,
      "metadata": {
        "id": "EDOwaug_ZbiH"
      },
      "outputs": [],
      "source": [
        "import warnings\n",
        "\n",
        "warnings.filterwarnings('ignore')"
      ]
    },
    {
      "cell_type": "code",
      "execution_count": null,
      "metadata": {
        "id": "TZyInNy7ZbiJ"
      },
      "outputs": [],
      "source": [
        "track_df = pd.read_csv(\"/content/drive/MyDrive/data/files/MusicData/tracks.csv\")"
      ]
    },
    {
      "cell_type": "code",
      "execution_count": null,
      "metadata": {
        "id": "p-NTErukZbiK"
      },
      "outputs": [],
      "source": [
        "art_df = pd.read_csv(\"/content/drive/MyDrive/data/files/MusicData/artists.csv\")"
      ]
    },
    {
      "cell_type": "code",
      "execution_count": null,
      "metadata": {
        "id": "Hwe0efBxZbiL",
        "outputId": "ae8f7438-57e3-46e3-9ecf-2d44d66a12f0",
        "colab": {
          "base_uri": "https://localhost:8080/"
        }
      },
      "outputs": [
        {
          "output_type": "execute_result",
          "data": {
            "text/plain": [
              "Index(['id', 'name', 'popularity', 'duration_ms', 'explicit', 'artists',\n",
              "       'id_artists', 'release_date', 'danceability', 'energy', 'key',\n",
              "       'loudness', 'mode', 'speechiness', 'acousticness', 'instrumentalness',\n",
              "       'liveness', 'valence', 'tempo', 'time_signature'],\n",
              "      dtype='object')"
            ]
          },
          "metadata": {},
          "execution_count": 8
        }
      ],
      "source": [
        "track_df.columns"
      ]
    },
    {
      "cell_type": "code",
      "execution_count": null,
      "metadata": {
        "id": "92-fGhmnZbiM",
        "outputId": "1deb20b3-06e5-4f24-e4c7-a0584ce5d502",
        "colab": {
          "base_uri": "https://localhost:8080/",
          "height": 444
        }
      },
      "outputs": [
        {
          "output_type": "execute_result",
          "data": {
            "text/plain": [
              "                           id                                    name  \\\n",
              "93802  4iJyoBOLtHqaGxP12qzhQI  Peaches (feat. Daniel Caesar & Giveon)   \n",
              "93803  7lPN2DXiMsVn7XUKtOW1CS                         drivers license   \n",
              "93804  3Ofmpyhv5UAQ70mENzB277                  Astronaut In The Ocean   \n",
              "92810  5QO79kh1waicV47BqGRL3g                         Save Your Tears   \n",
              "92811  6tDDoYIxWvMLTdKpjFkc1B                               telepatía   \n",
              "\n",
              "       popularity  duration_ms  explicit  \\\n",
              "93802         100       198082         1   \n",
              "93803          99       242014         1   \n",
              "93804          98       132780         0   \n",
              "92810          97       215627         1   \n",
              "92811          97       160191         0   \n",
              "\n",
              "                                            artists  \\\n",
              "93802  ['Justin Bieber', 'Daniel Caesar', 'Giveon']   \n",
              "93803                            ['Olivia Rodrigo']   \n",
              "93804                               ['Masked Wolf']   \n",
              "92810                                ['The Weeknd']   \n",
              "92811                                ['Kali Uchis']   \n",
              "\n",
              "                                              id_artists release_date  \\\n",
              "93802  ['1uNFoZAHBGtllmzznpCI3s', '20wkVLutqVOYrc0kxF...   2021-03-19   \n",
              "93803                         ['1McMsnEElThX1knmY4oliG']   2021-01-08   \n",
              "93804                         ['1uU7g3DNSbsu0QjSEqZtEd']   2021-01-06   \n",
              "92810                         ['1Xyo4u8uXC1ZmMpatF05PJ']   2020-03-20   \n",
              "92811                         ['1U1el3k54VvEUzo3ybLPlM']   2020-12-04   \n",
              "\n",
              "       danceability  energy  key  loudness  mode  speechiness  acousticness  \\\n",
              "93802         0.677   0.696    0    -6.181     1       0.1190        0.3210   \n",
              "93803         0.585   0.436   10    -8.761     1       0.0601        0.7210   \n",
              "93804         0.778   0.695    4    -6.865     0       0.0913        0.1750   \n",
              "92810         0.680   0.826    0    -5.487     1       0.0309        0.0212   \n",
              "92811         0.653   0.524   11    -9.016     0       0.0502        0.1120   \n",
              "\n",
              "       instrumentalness  liveness  valence    tempo  time_signature  \n",
              "93802          0.000000     0.420    0.464   90.030               4  \n",
              "93803          0.000013     0.105    0.132  143.874               4  \n",
              "93804          0.000000     0.150    0.472  149.996               4  \n",
              "92810          0.000012     0.543    0.644  118.051               4  \n",
              "92811          0.000000     0.203    0.553   83.970               4  "
            ],
            "text/html": [
              "\n",
              "  <div id=\"df-0442b6a0-dd09-412d-b97c-807cb1397fd4\">\n",
              "    <div class=\"colab-df-container\">\n",
              "      <div>\n",
              "<style scoped>\n",
              "    .dataframe tbody tr th:only-of-type {\n",
              "        vertical-align: middle;\n",
              "    }\n",
              "\n",
              "    .dataframe tbody tr th {\n",
              "        vertical-align: top;\n",
              "    }\n",
              "\n",
              "    .dataframe thead th {\n",
              "        text-align: right;\n",
              "    }\n",
              "</style>\n",
              "<table border=\"1\" class=\"dataframe\">\n",
              "  <thead>\n",
              "    <tr style=\"text-align: right;\">\n",
              "      <th></th>\n",
              "      <th>id</th>\n",
              "      <th>name</th>\n",
              "      <th>popularity</th>\n",
              "      <th>duration_ms</th>\n",
              "      <th>explicit</th>\n",
              "      <th>artists</th>\n",
              "      <th>id_artists</th>\n",
              "      <th>release_date</th>\n",
              "      <th>danceability</th>\n",
              "      <th>energy</th>\n",
              "      <th>key</th>\n",
              "      <th>loudness</th>\n",
              "      <th>mode</th>\n",
              "      <th>speechiness</th>\n",
              "      <th>acousticness</th>\n",
              "      <th>instrumentalness</th>\n",
              "      <th>liveness</th>\n",
              "      <th>valence</th>\n",
              "      <th>tempo</th>\n",
              "      <th>time_signature</th>\n",
              "    </tr>\n",
              "  </thead>\n",
              "  <tbody>\n",
              "    <tr>\n",
              "      <th>93802</th>\n",
              "      <td>4iJyoBOLtHqaGxP12qzhQI</td>\n",
              "      <td>Peaches (feat. Daniel Caesar &amp; Giveon)</td>\n",
              "      <td>100</td>\n",
              "      <td>198082</td>\n",
              "      <td>1</td>\n",
              "      <td>['Justin Bieber', 'Daniel Caesar', 'Giveon']</td>\n",
              "      <td>['1uNFoZAHBGtllmzznpCI3s', '20wkVLutqVOYrc0kxF...</td>\n",
              "      <td>2021-03-19</td>\n",
              "      <td>0.677</td>\n",
              "      <td>0.696</td>\n",
              "      <td>0</td>\n",
              "      <td>-6.181</td>\n",
              "      <td>1</td>\n",
              "      <td>0.1190</td>\n",
              "      <td>0.3210</td>\n",
              "      <td>0.000000</td>\n",
              "      <td>0.420</td>\n",
              "      <td>0.464</td>\n",
              "      <td>90.030</td>\n",
              "      <td>4</td>\n",
              "    </tr>\n",
              "    <tr>\n",
              "      <th>93803</th>\n",
              "      <td>7lPN2DXiMsVn7XUKtOW1CS</td>\n",
              "      <td>drivers license</td>\n",
              "      <td>99</td>\n",
              "      <td>242014</td>\n",
              "      <td>1</td>\n",
              "      <td>['Olivia Rodrigo']</td>\n",
              "      <td>['1McMsnEElThX1knmY4oliG']</td>\n",
              "      <td>2021-01-08</td>\n",
              "      <td>0.585</td>\n",
              "      <td>0.436</td>\n",
              "      <td>10</td>\n",
              "      <td>-8.761</td>\n",
              "      <td>1</td>\n",
              "      <td>0.0601</td>\n",
              "      <td>0.7210</td>\n",
              "      <td>0.000013</td>\n",
              "      <td>0.105</td>\n",
              "      <td>0.132</td>\n",
              "      <td>143.874</td>\n",
              "      <td>4</td>\n",
              "    </tr>\n",
              "    <tr>\n",
              "      <th>93804</th>\n",
              "      <td>3Ofmpyhv5UAQ70mENzB277</td>\n",
              "      <td>Astronaut In The Ocean</td>\n",
              "      <td>98</td>\n",
              "      <td>132780</td>\n",
              "      <td>0</td>\n",
              "      <td>['Masked Wolf']</td>\n",
              "      <td>['1uU7g3DNSbsu0QjSEqZtEd']</td>\n",
              "      <td>2021-01-06</td>\n",
              "      <td>0.778</td>\n",
              "      <td>0.695</td>\n",
              "      <td>4</td>\n",
              "      <td>-6.865</td>\n",
              "      <td>0</td>\n",
              "      <td>0.0913</td>\n",
              "      <td>0.1750</td>\n",
              "      <td>0.000000</td>\n",
              "      <td>0.150</td>\n",
              "      <td>0.472</td>\n",
              "      <td>149.996</td>\n",
              "      <td>4</td>\n",
              "    </tr>\n",
              "    <tr>\n",
              "      <th>92810</th>\n",
              "      <td>5QO79kh1waicV47BqGRL3g</td>\n",
              "      <td>Save Your Tears</td>\n",
              "      <td>97</td>\n",
              "      <td>215627</td>\n",
              "      <td>1</td>\n",
              "      <td>['The Weeknd']</td>\n",
              "      <td>['1Xyo4u8uXC1ZmMpatF05PJ']</td>\n",
              "      <td>2020-03-20</td>\n",
              "      <td>0.680</td>\n",
              "      <td>0.826</td>\n",
              "      <td>0</td>\n",
              "      <td>-5.487</td>\n",
              "      <td>1</td>\n",
              "      <td>0.0309</td>\n",
              "      <td>0.0212</td>\n",
              "      <td>0.000012</td>\n",
              "      <td>0.543</td>\n",
              "      <td>0.644</td>\n",
              "      <td>118.051</td>\n",
              "      <td>4</td>\n",
              "    </tr>\n",
              "    <tr>\n",
              "      <th>92811</th>\n",
              "      <td>6tDDoYIxWvMLTdKpjFkc1B</td>\n",
              "      <td>telepatía</td>\n",
              "      <td>97</td>\n",
              "      <td>160191</td>\n",
              "      <td>0</td>\n",
              "      <td>['Kali Uchis']</td>\n",
              "      <td>['1U1el3k54VvEUzo3ybLPlM']</td>\n",
              "      <td>2020-12-04</td>\n",
              "      <td>0.653</td>\n",
              "      <td>0.524</td>\n",
              "      <td>11</td>\n",
              "      <td>-9.016</td>\n",
              "      <td>0</td>\n",
              "      <td>0.0502</td>\n",
              "      <td>0.1120</td>\n",
              "      <td>0.000000</td>\n",
              "      <td>0.203</td>\n",
              "      <td>0.553</td>\n",
              "      <td>83.970</td>\n",
              "      <td>4</td>\n",
              "    </tr>\n",
              "  </tbody>\n",
              "</table>\n",
              "</div>\n",
              "      <button class=\"colab-df-convert\" onclick=\"convertToInteractive('df-0442b6a0-dd09-412d-b97c-807cb1397fd4')\"\n",
              "              title=\"Convert this dataframe to an interactive table.\"\n",
              "              style=\"display:none;\">\n",
              "        \n",
              "  <svg xmlns=\"http://www.w3.org/2000/svg\" height=\"24px\"viewBox=\"0 0 24 24\"\n",
              "       width=\"24px\">\n",
              "    <path d=\"M0 0h24v24H0V0z\" fill=\"none\"/>\n",
              "    <path d=\"M18.56 5.44l.94 2.06.94-2.06 2.06-.94-2.06-.94-.94-2.06-.94 2.06-2.06.94zm-11 1L8.5 8.5l.94-2.06 2.06-.94-2.06-.94L8.5 2.5l-.94 2.06-2.06.94zm10 10l.94 2.06.94-2.06 2.06-.94-2.06-.94-.94-2.06-.94 2.06-2.06.94z\"/><path d=\"M17.41 7.96l-1.37-1.37c-.4-.4-.92-.59-1.43-.59-.52 0-1.04.2-1.43.59L10.3 9.45l-7.72 7.72c-.78.78-.78 2.05 0 2.83L4 21.41c.39.39.9.59 1.41.59.51 0 1.02-.2 1.41-.59l7.78-7.78 2.81-2.81c.8-.78.8-2.07 0-2.86zM5.41 20L4 18.59l7.72-7.72 1.47 1.35L5.41 20z\"/>\n",
              "  </svg>\n",
              "      </button>\n",
              "      \n",
              "  <style>\n",
              "    .colab-df-container {\n",
              "      display:flex;\n",
              "      flex-wrap:wrap;\n",
              "      gap: 12px;\n",
              "    }\n",
              "\n",
              "    .colab-df-convert {\n",
              "      background-color: #E8F0FE;\n",
              "      border: none;\n",
              "      border-radius: 50%;\n",
              "      cursor: pointer;\n",
              "      display: none;\n",
              "      fill: #1967D2;\n",
              "      height: 32px;\n",
              "      padding: 0 0 0 0;\n",
              "      width: 32px;\n",
              "    }\n",
              "\n",
              "    .colab-df-convert:hover {\n",
              "      background-color: #E2EBFA;\n",
              "      box-shadow: 0px 1px 2px rgba(60, 64, 67, 0.3), 0px 1px 3px 1px rgba(60, 64, 67, 0.15);\n",
              "      fill: #174EA6;\n",
              "    }\n",
              "\n",
              "    [theme=dark] .colab-df-convert {\n",
              "      background-color: #3B4455;\n",
              "      fill: #D2E3FC;\n",
              "    }\n",
              "\n",
              "    [theme=dark] .colab-df-convert:hover {\n",
              "      background-color: #434B5C;\n",
              "      box-shadow: 0px 1px 3px 1px rgba(0, 0, 0, 0.15);\n",
              "      filter: drop-shadow(0px 1px 2px rgba(0, 0, 0, 0.3));\n",
              "      fill: #FFFFFF;\n",
              "    }\n",
              "  </style>\n",
              "\n",
              "      <script>\n",
              "        const buttonEl =\n",
              "          document.querySelector('#df-0442b6a0-dd09-412d-b97c-807cb1397fd4 button.colab-df-convert');\n",
              "        buttonEl.style.display =\n",
              "          google.colab.kernel.accessAllowed ? 'block' : 'none';\n",
              "\n",
              "        async function convertToInteractive(key) {\n",
              "          const element = document.querySelector('#df-0442b6a0-dd09-412d-b97c-807cb1397fd4');\n",
              "          const dataTable =\n",
              "            await google.colab.kernel.invokeFunction('convertToInteractive',\n",
              "                                                     [key], {});\n",
              "          if (!dataTable) return;\n",
              "\n",
              "          const docLinkHtml = 'Like what you see? Visit the ' +\n",
              "            '<a target=\"_blank\" href=https://colab.research.google.com/notebooks/data_table.ipynb>data table notebook</a>'\n",
              "            + ' to learn more about interactive tables.';\n",
              "          element.innerHTML = '';\n",
              "          dataTable['output_type'] = 'display_data';\n",
              "          await google.colab.output.renderOutput(dataTable, element);\n",
              "          const docLink = document.createElement('div');\n",
              "          docLink.innerHTML = docLinkHtml;\n",
              "          element.appendChild(docLink);\n",
              "        }\n",
              "      </script>\n",
              "    </div>\n",
              "  </div>\n",
              "  "
            ]
          },
          "metadata": {},
          "execution_count": 9
        }
      ],
      "source": [
        "track_df.sort_values(by='popularity', ascending=False).head()"
      ]
    },
    {
      "cell_type": "code",
      "execution_count": null,
      "metadata": {
        "id": "b8umY10aZbiM",
        "outputId": "64f3e259-626e-425f-98b9-2029e086fde3",
        "colab": {
          "base_uri": "https://localhost:8080/",
          "height": 206
        }
      },
      "outputs": [
        {
          "output_type": "execute_result",
          "data": {
            "text/plain": [
              "                            id   followers  \\\n",
              "144481  1uNFoZAHBGtllmzznpCI3s  44606973.0   \n",
              "126338  06HL4z0CvFAxyc27GXpf02  38869193.0   \n",
              "313676  3TVXtAsR1Inumwj472S9r4  54416812.0   \n",
              "115489  4q3ewBCX7sLwd24euuV69X  32244734.0   \n",
              "144484  3Nrfpe0tUJi4K4DXYWgMUX  31623813.0   \n",
              "\n",
              "                                                   genres           name  \\\n",
              "144481           ['canadian pop', 'pop', 'post-teen pop']  Justin Bieber   \n",
              "126338                           ['pop', 'post-teen pop']   Taylor Swift   \n",
              "313676  ['canadian hip hop', 'canadian pop', 'hip hop'...          Drake   \n",
              "115489              ['latin', 'reggaeton', 'trap latino']      Bad Bunny   \n",
              "144484                       ['k-pop', 'k-pop boy group']            BTS   \n",
              "\n",
              "        popularity  \n",
              "144481         100  \n",
              "126338          98  \n",
              "313676          98  \n",
              "115489          98  \n",
              "144484          96  "
            ],
            "text/html": [
              "\n",
              "  <div id=\"df-27af8606-3cee-404d-b504-62c300ee3a08\">\n",
              "    <div class=\"colab-df-container\">\n",
              "      <div>\n",
              "<style scoped>\n",
              "    .dataframe tbody tr th:only-of-type {\n",
              "        vertical-align: middle;\n",
              "    }\n",
              "\n",
              "    .dataframe tbody tr th {\n",
              "        vertical-align: top;\n",
              "    }\n",
              "\n",
              "    .dataframe thead th {\n",
              "        text-align: right;\n",
              "    }\n",
              "</style>\n",
              "<table border=\"1\" class=\"dataframe\">\n",
              "  <thead>\n",
              "    <tr style=\"text-align: right;\">\n",
              "      <th></th>\n",
              "      <th>id</th>\n",
              "      <th>followers</th>\n",
              "      <th>genres</th>\n",
              "      <th>name</th>\n",
              "      <th>popularity</th>\n",
              "    </tr>\n",
              "  </thead>\n",
              "  <tbody>\n",
              "    <tr>\n",
              "      <th>144481</th>\n",
              "      <td>1uNFoZAHBGtllmzznpCI3s</td>\n",
              "      <td>44606973.0</td>\n",
              "      <td>['canadian pop', 'pop', 'post-teen pop']</td>\n",
              "      <td>Justin Bieber</td>\n",
              "      <td>100</td>\n",
              "    </tr>\n",
              "    <tr>\n",
              "      <th>126338</th>\n",
              "      <td>06HL4z0CvFAxyc27GXpf02</td>\n",
              "      <td>38869193.0</td>\n",
              "      <td>['pop', 'post-teen pop']</td>\n",
              "      <td>Taylor Swift</td>\n",
              "      <td>98</td>\n",
              "    </tr>\n",
              "    <tr>\n",
              "      <th>313676</th>\n",
              "      <td>3TVXtAsR1Inumwj472S9r4</td>\n",
              "      <td>54416812.0</td>\n",
              "      <td>['canadian hip hop', 'canadian pop', 'hip hop'...</td>\n",
              "      <td>Drake</td>\n",
              "      <td>98</td>\n",
              "    </tr>\n",
              "    <tr>\n",
              "      <th>115489</th>\n",
              "      <td>4q3ewBCX7sLwd24euuV69X</td>\n",
              "      <td>32244734.0</td>\n",
              "      <td>['latin', 'reggaeton', 'trap latino']</td>\n",
              "      <td>Bad Bunny</td>\n",
              "      <td>98</td>\n",
              "    </tr>\n",
              "    <tr>\n",
              "      <th>144484</th>\n",
              "      <td>3Nrfpe0tUJi4K4DXYWgMUX</td>\n",
              "      <td>31623813.0</td>\n",
              "      <td>['k-pop', 'k-pop boy group']</td>\n",
              "      <td>BTS</td>\n",
              "      <td>96</td>\n",
              "    </tr>\n",
              "  </tbody>\n",
              "</table>\n",
              "</div>\n",
              "      <button class=\"colab-df-convert\" onclick=\"convertToInteractive('df-27af8606-3cee-404d-b504-62c300ee3a08')\"\n",
              "              title=\"Convert this dataframe to an interactive table.\"\n",
              "              style=\"display:none;\">\n",
              "        \n",
              "  <svg xmlns=\"http://www.w3.org/2000/svg\" height=\"24px\"viewBox=\"0 0 24 24\"\n",
              "       width=\"24px\">\n",
              "    <path d=\"M0 0h24v24H0V0z\" fill=\"none\"/>\n",
              "    <path d=\"M18.56 5.44l.94 2.06.94-2.06 2.06-.94-2.06-.94-.94-2.06-.94 2.06-2.06.94zm-11 1L8.5 8.5l.94-2.06 2.06-.94-2.06-.94L8.5 2.5l-.94 2.06-2.06.94zm10 10l.94 2.06.94-2.06 2.06-.94-2.06-.94-.94-2.06-.94 2.06-2.06.94z\"/><path d=\"M17.41 7.96l-1.37-1.37c-.4-.4-.92-.59-1.43-.59-.52 0-1.04.2-1.43.59L10.3 9.45l-7.72 7.72c-.78.78-.78 2.05 0 2.83L4 21.41c.39.39.9.59 1.41.59.51 0 1.02-.2 1.41-.59l7.78-7.78 2.81-2.81c.8-.78.8-2.07 0-2.86zM5.41 20L4 18.59l7.72-7.72 1.47 1.35L5.41 20z\"/>\n",
              "  </svg>\n",
              "      </button>\n",
              "      \n",
              "  <style>\n",
              "    .colab-df-container {\n",
              "      display:flex;\n",
              "      flex-wrap:wrap;\n",
              "      gap: 12px;\n",
              "    }\n",
              "\n",
              "    .colab-df-convert {\n",
              "      background-color: #E8F0FE;\n",
              "      border: none;\n",
              "      border-radius: 50%;\n",
              "      cursor: pointer;\n",
              "      display: none;\n",
              "      fill: #1967D2;\n",
              "      height: 32px;\n",
              "      padding: 0 0 0 0;\n",
              "      width: 32px;\n",
              "    }\n",
              "\n",
              "    .colab-df-convert:hover {\n",
              "      background-color: #E2EBFA;\n",
              "      box-shadow: 0px 1px 2px rgba(60, 64, 67, 0.3), 0px 1px 3px 1px rgba(60, 64, 67, 0.15);\n",
              "      fill: #174EA6;\n",
              "    }\n",
              "\n",
              "    [theme=dark] .colab-df-convert {\n",
              "      background-color: #3B4455;\n",
              "      fill: #D2E3FC;\n",
              "    }\n",
              "\n",
              "    [theme=dark] .colab-df-convert:hover {\n",
              "      background-color: #434B5C;\n",
              "      box-shadow: 0px 1px 3px 1px rgba(0, 0, 0, 0.15);\n",
              "      filter: drop-shadow(0px 1px 2px rgba(0, 0, 0, 0.3));\n",
              "      fill: #FFFFFF;\n",
              "    }\n",
              "  </style>\n",
              "\n",
              "      <script>\n",
              "        const buttonEl =\n",
              "          document.querySelector('#df-27af8606-3cee-404d-b504-62c300ee3a08 button.colab-df-convert');\n",
              "        buttonEl.style.display =\n",
              "          google.colab.kernel.accessAllowed ? 'block' : 'none';\n",
              "\n",
              "        async function convertToInteractive(key) {\n",
              "          const element = document.querySelector('#df-27af8606-3cee-404d-b504-62c300ee3a08');\n",
              "          const dataTable =\n",
              "            await google.colab.kernel.invokeFunction('convertToInteractive',\n",
              "                                                     [key], {});\n",
              "          if (!dataTable) return;\n",
              "\n",
              "          const docLinkHtml = 'Like what you see? Visit the ' +\n",
              "            '<a target=\"_blank\" href=https://colab.research.google.com/notebooks/data_table.ipynb>data table notebook</a>'\n",
              "            + ' to learn more about interactive tables.';\n",
              "          element.innerHTML = '';\n",
              "          dataTable['output_type'] = 'display_data';\n",
              "          await google.colab.output.renderOutput(dataTable, element);\n",
              "          const docLink = document.createElement('div');\n",
              "          docLink.innerHTML = docLinkHtml;\n",
              "          element.appendChild(docLink);\n",
              "        }\n",
              "      </script>\n",
              "    </div>\n",
              "  </div>\n",
              "  "
            ]
          },
          "metadata": {},
          "execution_count": 10
        }
      ],
      "source": [
        "art_df.sort_values(by='popularity', ascending=False).head(5)"
      ]
    },
    {
      "cell_type": "code",
      "execution_count": null,
      "metadata": {
        "id": "7n57FFoaZbiN",
        "outputId": "31e41457-3455-4e3b-af71-fe8dff03d883",
        "colab": {
          "base_uri": "https://localhost:8080/"
        }
      },
      "outputs": [
        {
          "output_type": "stream",
          "name": "stdout",
          "text": [
            "<class 'pandas.core.frame.DataFrame'>\n",
            "RangeIndex: 586672 entries, 0 to 586671\n",
            "Data columns (total 20 columns):\n",
            " #   Column            Non-Null Count   Dtype  \n",
            "---  ------            --------------   -----  \n",
            " 0   id                586672 non-null  object \n",
            " 1   name              586601 non-null  object \n",
            " 2   popularity        586672 non-null  int64  \n",
            " 3   duration_ms       586672 non-null  int64  \n",
            " 4   explicit          586672 non-null  int64  \n",
            " 5   artists           586672 non-null  object \n",
            " 6   id_artists        586672 non-null  object \n",
            " 7   release_date      586672 non-null  object \n",
            " 8   danceability      586672 non-null  float64\n",
            " 9   energy            586672 non-null  float64\n",
            " 10  key               586672 non-null  int64  \n",
            " 11  loudness          586672 non-null  float64\n",
            " 12  mode              586672 non-null  int64  \n",
            " 13  speechiness       586672 non-null  float64\n",
            " 14  acousticness      586672 non-null  float64\n",
            " 15  instrumentalness  586672 non-null  float64\n",
            " 16  liveness          586672 non-null  float64\n",
            " 17  valence           586672 non-null  float64\n",
            " 18  tempo             586672 non-null  float64\n",
            " 19  time_signature    586672 non-null  int64  \n",
            "dtypes: float64(9), int64(6), object(5)\n",
            "memory usage: 89.5+ MB\n"
          ]
        }
      ],
      "source": [
        "track_df.info()"
      ]
    },
    {
      "cell_type": "markdown",
      "metadata": {
        "id": "02IG0voJZbiO"
      },
      "source": [
        "Deleting null 'NAME' containing rows"
      ]
    },
    {
      "cell_type": "code",
      "execution_count": null,
      "metadata": {
        "id": "uQWbMhVGZbiP",
        "outputId": "63fd2c7b-02bd-48a4-944a-aaf60a5534b8",
        "colab": {
          "base_uri": "https://localhost:8080/"
        }
      },
      "outputs": [
        {
          "output_type": "execute_result",
          "data": {
            "text/plain": [
              "Int64Index([226336, 510975, 510976, 510978, 510979, 510982, 510983, 510984,\n",
              "            510986, 510987, 510989, 510991, 510992, 510998, 511001, 511002,\n",
              "            511004, 511005, 511010, 511063, 511070, 511073, 511074, 511083,\n",
              "            511085, 511088, 511093, 511095, 511102, 511103, 511104, 511109,\n",
              "            512243, 513070, 513153, 513167, 513173, 513229, 513231, 513293,\n",
              "            513369, 513379, 513395, 513396, 513473, 513545, 513568, 513607,\n",
              "            513630, 513654, 513672, 513783, 514057, 514464, 514468, 514476,\n",
              "            514492, 514499, 514541, 514760, 516861, 517163, 517176, 517184,\n",
              "            517185, 517191, 517206, 517215, 520127, 525238, 525265],\n",
              "           dtype='int64')"
            ]
          },
          "metadata": {},
          "execution_count": 12
        }
      ],
      "source": [
        "nindx = track_df[track_df['name'].isnull() == True].index\n",
        "nindx"
      ]
    },
    {
      "cell_type": "code",
      "execution_count": null,
      "metadata": {
        "id": "zCtmemoCZbiQ"
      },
      "outputs": [],
      "source": [
        "track_df.drop(nindx, axis=0, inplace=True)"
      ]
    },
    {
      "cell_type": "code",
      "execution_count": null,
      "metadata": {
        "id": "GS6-4jS0ZbiQ"
      },
      "outputs": [],
      "source": [
        "# we don't need full release date, we just need years\n",
        "\n",
        "def toYear(date_str:str):\n",
        "    x = date_str.split('-')\n",
        "    return int(x[0])\n",
        "\n",
        "track_df['year'] = track_df['release_date'].apply(toYear)"
      ]
    },
    {
      "cell_type": "code",
      "execution_count": null,
      "metadata": {
        "id": "gdG2q0NWZbiQ"
      },
      "outputs": [],
      "source": [
        "# year to decade (decade to decade gap is 10 years) \n",
        "\n",
        "track_df['decade'] = track_df['year'].apply(lambda x : int(x/10)*10)"
      ]
    },
    {
      "cell_type": "code",
      "execution_count": null,
      "metadata": {
        "id": "wl9yxTD9ZbiR",
        "outputId": "1ea57786-0caf-4df7-87ee-9ec1346acb03",
        "colab": {
          "base_uri": "https://localhost:8080/"
        }
      },
      "outputs": [
        {
          "output_type": "execute_result",
          "data": {
            "text/plain": [
              "1970"
            ]
          },
          "metadata": {},
          "execution_count": 16
        }
      ],
      "source": [
        "int(1970/10)*10\n"
      ]
    },
    {
      "cell_type": "code",
      "execution_count": null,
      "metadata": {
        "id": "kX77d_SqZbiR",
        "outputId": "2adfbdbf-0c9f-4d00-9658-1d810eea896b",
        "colab": {
          "base_uri": "https://localhost:8080/",
          "height": 296
        }
      },
      "outputs": [
        {
          "output_type": "execute_result",
          "data": {
            "text/plain": [
              "<matplotlib.axes._subplots.AxesSubplot at 0x7fb718d89ee0>"
            ]
          },
          "metadata": {},
          "execution_count": 22
        },
        {
          "output_type": "display_data",
          "data": {
            "text/plain": [
              "<Figure size 432x288 with 1 Axes>"
            ],
            "image/png": "[encoded data removed]"
          },
          "metadata": {
            "needs_background": "light"
          }
        }
      ],
      "source": [
        "sns.countplot(track_df['decade'])"
      ]
    },
    {
      "cell_type": "code",
      "execution_count": null,
      "metadata": {
        "id": "BWfM6-8GZbiS",
        "outputId": "b999c4d7-a1c1-4f9d-b5b8-e8a0fd0f3fe7",
        "colab": {
          "base_uri": "https://localhost:8080/"
        }
      },
      "outputs": [
        {
          "output_type": "execute_result",
          "data": {
            "text/plain": [
              "year                1.000000\n",
              "decade              0.991713\n",
              "popularity          0.590796\n",
              "energy              0.460131\n",
              "loudness            0.447057\n",
              "danceability        0.226596\n",
              "explicit            0.208475\n",
              "tempo               0.120456\n",
              "time_signature      0.116377\n",
              "duration_ms         0.054084\n",
              "key                 0.023678\n",
              "liveness           -0.020992\n",
              "valence            -0.024842\n",
              "mode               -0.081315\n",
              "speechiness        -0.081996\n",
              "instrumentalness   -0.221888\n",
              "acousticness       -0.527429\n",
              "Name: year, dtype: float64"
            ]
          },
          "metadata": {},
          "execution_count": 23
        }
      ],
      "source": [
        "track_df.corr()['year'].sort_values(ascending=False)"
      ]
    },
    {
      "cell_type": "markdown",
      "source": [
        "We will drop some unnecessary columns that we wont count in for recommendation"
      ],
      "metadata": {
        "id": "N89QdcxicYmp"
      }
    },
    {
      "cell_type": "code",
      "execution_count": null,
      "metadata": {
        "id": "MgTv4l3cZbiS"
      },
      "outputs": [],
      "source": [
        "track_df.drop(columns=['release_date', 'duration_ms', 'loudness', 'mode', \n",
        "                       'tempo', 'time_signature', 'explicit' ], inplace = True)"
      ]
    },
    {
      "cell_type": "code",
      "source": [
        "track_df.isna().sum()"
      ],
      "metadata": {
        "colab": {
          "base_uri": "https://localhost:8080/"
        },
        "id": "RDnKMUm_g6Be",
        "outputId": "254fa338-1952-40b0-96f6-1475294f59f0"
      },
      "execution_count": null,
      "outputs": [
        {
          "output_type": "execute_result",
          "data": {
            "text/plain": [
              "id                  0\n",
              "name                0\n",
              "popularity          0\n",
              "artists             0\n",
              "id_artists          0\n",
              "danceability        0\n",
              "energy              0\n",
              "key                 0\n",
              "speechiness         0\n",
              "acousticness        0\n",
              "instrumentalness    0\n",
              "liveness            0\n",
              "valence             0\n",
              "year                0\n",
              "decade              0\n",
              "dtype: int64"
            ]
          },
          "metadata": {},
          "execution_count": 56
        }
      ]
    },
    {
      "cell_type": "code",
      "source": [
        "track_df.to_csv(\"/content/drive/MyDrive/data/files/MusicData/track_df.csv\", index_label='idx')"
      ],
      "metadata": {
        "id": "JI-MjAPBhQR6"
      },
      "execution_count": null,
      "outputs": []
    },
    {
      "cell_type": "markdown",
      "source": [
        "Lets check artists data"
      ],
      "metadata": {
        "id": "_FpSvZ10hbSo"
      }
    },
    {
      "cell_type": "code",
      "source": [
        "art_df.info()"
      ],
      "metadata": {
        "colab": {
          "base_uri": "https://localhost:8080/"
        },
        "id": "DM5mjcBQhHIL",
        "outputId": "b3b8e702-a4ca-4ae8-f0c8-047dc7999077"
      },
      "execution_count": null,
      "outputs": [
        {
          "output_type": "stream",
          "name": "stdout",
          "text": [
            "<class 'pandas.core.frame.DataFrame'>\n",
            "RangeIndex: 1162095 entries, 0 to 1162094\n",
            "Data columns (total 5 columns):\n",
            " #   Column      Non-Null Count    Dtype  \n",
            "---  ------      --------------    -----  \n",
            " 0   id          1162095 non-null  object \n",
            " 1   followers   1162084 non-null  float64\n",
            " 2   genres      1162095 non-null  object \n",
            " 3   name        1162095 non-null  object \n",
            " 4   popularity  1162095 non-null  int64  \n",
            "dtypes: float64(1), int64(1), object(3)\n",
            "memory usage: 44.3+ MB\n"
          ]
        }
      ]
    },
    {
      "cell_type": "markdown",
      "source": [],
      "metadata": {
        "id": "cki_t4PShaZR"
      }
    },
    {
      "cell_type": "code",
      "source": [
        "art_df.isna().sum()"
      ],
      "metadata": {
        "colab": {
          "base_uri": "https://localhost:8080/"
        },
        "id": "Ag75ftlDhJ4L",
        "outputId": "dd1364dc-5445-4699-a0c3-acfaf7c5da85"
      },
      "execution_count": null,
      "outputs": [
        {
          "output_type": "execute_result",
          "data": {
            "text/plain": [
              "id             0\n",
              "followers     11\n",
              "genres         0\n",
              "name           0\n",
              "popularity     0\n",
              "dtype: int64"
            ]
          },
          "metadata": {},
          "execution_count": 61
        }
      ]
    },
    {
      "cell_type": "code",
      "source": [
        "art_df = art_df.dropna(axis=0)"
      ],
      "metadata": {
        "id": "9yYTCm0_hjD0"
      },
      "execution_count": null,
      "outputs": []
    },
    {
      "cell_type": "code",
      "source": [
        "art_df.to_csv(\"/content/drive/MyDrive/data/files/MusicData/art_df.csv\", index_label='idx')"
      ],
      "metadata": {
        "id": "sJy2QxCghvdU"
      },
      "execution_count": null,
      "outputs": []
    }
  ],
  "metadata": {
    "kernelspec": {
      "display_name": "Python 3",
      "language": "python",
      "name": "python3"
    },
    "language_info": {
      "codemirror_mode": {
        "name": "ipython",
        "version": 3
      },
      "file_extension": ".py",
      "mimetype": "text/x-python",
      "name": "python",
      "nbconvert_exporter": "python",
      "pygments_lexer": "ipython3",
      "version": "3.10.5"
    },
    "orig_nbformat": 4,
    "vscode": {
      "interpreter": {
        "hash": "26de051ba29f2982a8de78e945f0abaf191376122a1563185a90213a26c5da77"
      }
    },
    "colab": {
      "provenance": []
    }
  },
  "nbformat": 4,
  "nbformat_minor": 0
}